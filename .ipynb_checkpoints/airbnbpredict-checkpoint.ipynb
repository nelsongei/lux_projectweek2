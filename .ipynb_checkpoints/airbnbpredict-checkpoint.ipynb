{
 "cells": [
  {
   "cell_type": "code",
   "execution_count": 2,
   "id": "876b6b20-2347-4221-9060-e095243cc619",
   "metadata": {},
   "outputs": [],
   "source": [
    "import pyforest\n",
    "from sklearn.preprocessing import MinMaxScaler"
   ]
  },
  {
   "cell_type": "code",
   "execution_count": 7,
   "id": "cdaa1d18-8903-490c-8a64-ed292668d08e",
   "metadata": {},
   "outputs": [
    {
     "data": {
      "application/javascript": [
       "\n",
       "        if (window._pyforest_update_imports_cell) { window._pyforest_update_imports_cell('import pandas as pd'); }\n",
       "    "
      ],
      "text/plain": [
       "<IPython.core.display.Javascript object>"
      ]
     },
     "metadata": {},
     "output_type": "display_data"
    }
   ],
   "source": [
    "data = pd.read_csv('data.csv');\n",
    "data.dropna(inplace = True)\n",
    "categorical_columns = ['user_id','first_name','last_name','age,email','country','postal_code','favorite_color','booking_price','booking_date','booking_duration'];"
   ]
  },
  {
   "cell_type": "code",
   "execution_count": null,
   "id": "f5f15cce-a5f2-4bd3-b3f1-2b8e954bc69f",
   "metadata": {},
   "outputs": [],
   "source": []
  }
 ],
 "metadata": {
  "kernelspec": {
   "display_name": "Python 3 (ipykernel)",
   "language": "python",
   "name": "python3"
  },
  "language_info": {
   "codemirror_mode": {
    "name": "ipython",
    "version": 3
   },
   "file_extension": ".py",
   "mimetype": "text/x-python",
   "name": "python",
   "nbconvert_exporter": "python",
   "pygments_lexer": "ipython3",
   "version": "3.10.12"
  }
 },
 "nbformat": 4,
 "nbformat_minor": 5
}
